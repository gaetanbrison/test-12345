{
 "cells": [
  {
   "cell_type": "markdown",
   "metadata": {},
   "source": [
    "\n",
    "<center><img src=\"data:image/png;base64,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\" width=400 height=100/></center>\n",
    "\n",
    "___\n",
    "\n",
    "[<center>Course provided by Gaëtan Brison</center>](https://github.com/gaetanbrison)\n",
    "___"
   ]
  },
  {
   "cell_type": "markdown",
   "metadata": {},
   "source": [
    "# Facebook Prophet Challenge"
   ]
  },
  {
   "cell_type": "markdown",
   "metadata": {
    "id": "QZK36hW6M7cl"
   },
   "source": [
    "# Libraries and Data"
   ]
  },
  {
   "cell_type": "code",
   "execution_count": 2,
   "metadata": {
    "executionInfo": {
     "elapsed": 957,
     "status": "ok",
     "timestamp": 1620799968854,
     "user": {
      "displayName": "Diogo Resende",
      "photoUrl": "https://lh3.googleusercontent.com/a-/AOh14GgH4DE06-yE1oiIzCiaAURCl1Escr4LXXiaSnbSaA=s64",
      "userId": "05706604408624562002"
     },
     "user_tz": -120
    },
    "id": "xBzm1qtYNE6M"
   },
   "outputs": [],
   "source": [
    "#import libraries\n"
   ]
  },
  {
   "cell_type": "code",
   "execution_count": 6,
   "metadata": {
    "colab": {
     "base_uri": "https://localhost:8080/",
     "height": 326
    },
    "executionInfo": {
     "elapsed": 480,
     "status": "ok",
     "timestamp": 1620800167663,
     "user": {
      "displayName": "Diogo Resende",
      "photoUrl": "https://lh3.googleusercontent.com/a-/AOh14GgH4DE06-yE1oiIzCiaAURCl1Escr4LXXiaSnbSaA=s64",
      "userId": "05706604408624562002"
     },
     "user_tz": -120
    },
    "id": "oA14ejKbN1L3",
    "outputId": "d5969d5f-1086-4c5e-94d6-7af7cf319cfb"
   },
   "outputs": [
    {
     "data": {
      "text/html": [
       "<div>\n",
       "<style scoped>\n",
       "    .dataframe tbody tr th:only-of-type {\n",
       "        vertical-align: middle;\n",
       "    }\n",
       "\n",
       "    .dataframe tbody tr th {\n",
       "        vertical-align: top;\n",
       "    }\n",
       "\n",
       "    .dataframe thead th {\n",
       "        text-align: right;\n",
       "    }\n",
       "</style>\n",
       "<table border=\"1\" class=\"dataframe\">\n",
       "  <thead>\n",
       "    <tr style=\"text-align: right;\">\n",
       "      <th></th>\n",
       "      <th>Date</th>\n",
       "      <th>Total Adults in Shelter</th>\n",
       "      <th>Total Children in Shelter</th>\n",
       "      <th>Total Individuals in Shelter</th>\n",
       "      <th>Single Adult Men in Shelter</th>\n",
       "      <th>Single Adult Women in Shelter</th>\n",
       "      <th>Total Single Adults in Shelter</th>\n",
       "      <th>Families with Children in Shelter</th>\n",
       "      <th>Adults in Families with Children in Shelter</th>\n",
       "      <th>Children in Families with Children in Shelter</th>\n",
       "      <th>Total Individuals in Families with Children in Shelter</th>\n",
       "      <th>Adult Families in Shelter</th>\n",
       "      <th>Easter</th>\n",
       "      <th>Thanksgiving</th>\n",
       "      <th>Christmas</th>\n",
       "    </tr>\n",
       "  </thead>\n",
       "  <tbody>\n",
       "    <tr>\n",
       "      <th>0</th>\n",
       "      <td>1/1/2014</td>\n",
       "      <td>28770</td>\n",
       "      <td>21919</td>\n",
       "      <td>50689</td>\n",
       "      <td>7269</td>\n",
       "      <td>2650</td>\n",
       "      <td>9919</td>\n",
       "      <td>10469</td>\n",
       "      <td>14897</td>\n",
       "      <td>21919</td>\n",
       "      <td>1866</td>\n",
       "      <td>3954</td>\n",
       "      <td>0</td>\n",
       "      <td>0</td>\n",
       "      <td>0</td>\n",
       "    </tr>\n",
       "    <tr>\n",
       "      <th>1</th>\n",
       "      <td>1/2/2014</td>\n",
       "      <td>28843</td>\n",
       "      <td>21954</td>\n",
       "      <td>50797</td>\n",
       "      <td>7289</td>\n",
       "      <td>2661</td>\n",
       "      <td>9950</td>\n",
       "      <td>10484</td>\n",
       "      <td>14930</td>\n",
       "      <td>21954</td>\n",
       "      <td>1871</td>\n",
       "      <td>3963</td>\n",
       "      <td>0</td>\n",
       "      <td>0</td>\n",
       "      <td>0</td>\n",
       "    </tr>\n",
       "    <tr>\n",
       "      <th>2</th>\n",
       "      <td>1/3/2014</td>\n",
       "      <td>28947</td>\n",
       "      <td>22007</td>\n",
       "      <td>50954</td>\n",
       "      <td>7323</td>\n",
       "      <td>2678</td>\n",
       "      <td>10001</td>\n",
       "      <td>10521</td>\n",
       "      <td>14978</td>\n",
       "      <td>22007</td>\n",
       "      <td>1872</td>\n",
       "      <td>3968</td>\n",
       "      <td>0</td>\n",
       "      <td>0</td>\n",
       "      <td>0</td>\n",
       "    </tr>\n",
       "    <tr>\n",
       "      <th>3</th>\n",
       "      <td>1/4/2014</td>\n",
       "      <td>28954</td>\n",
       "      <td>22003</td>\n",
       "      <td>50957</td>\n",
       "      <td>7320</td>\n",
       "      <td>2684</td>\n",
       "      <td>10004</td>\n",
       "      <td>10520</td>\n",
       "      <td>14971</td>\n",
       "      <td>22003</td>\n",
       "      <td>1877</td>\n",
       "      <td>3979</td>\n",
       "      <td>0</td>\n",
       "      <td>0</td>\n",
       "      <td>0</td>\n",
       "    </tr>\n",
       "    <tr>\n",
       "      <th>4</th>\n",
       "      <td>1/5/2014</td>\n",
       "      <td>28991</td>\n",
       "      <td>21966</td>\n",
       "      <td>50957</td>\n",
       "      <td>7386</td>\n",
       "      <td>2692</td>\n",
       "      <td>10078</td>\n",
       "      <td>10502</td>\n",
       "      <td>14941</td>\n",
       "      <td>21966</td>\n",
       "      <td>1874</td>\n",
       "      <td>3972</td>\n",
       "      <td>0</td>\n",
       "      <td>0</td>\n",
       "      <td>0</td>\n",
       "    </tr>\n",
       "  </tbody>\n",
       "</table>\n",
       "</div>"
      ],
      "text/plain": [
       "       Date  Total Adults in Shelter  ...  Thanksgiving  Christmas\n",
       "0  1/1/2014                    28770  ...             0          0\n",
       "1  1/2/2014                    28843  ...             0          0\n",
       "2  1/3/2014                    28947  ...             0          0\n",
       "3  1/4/2014                    28954  ...             0          0\n",
       "4  1/5/2014                    28991  ...             0          0\n",
       "\n",
       "[5 rows x 15 columns]"
      ]
     },
     "execution_count": 6,
     "metadata": {
      "tags": []
     },
     "output_type": "execute_result"
    }
   ],
   "source": [
    "#load the data\n"
   ]
  },
  {
   "cell_type": "markdown",
   "metadata": {
    "id": "6RKxpqoBOSBX"
   },
   "source": [
    "# Data preparation"
   ]
  },
  {
   "cell_type": "code",
   "execution_count": 7,
   "metadata": {
    "colab": {
     "base_uri": "https://localhost:8080/"
    },
    "executionInfo": {
     "elapsed": 713,
     "status": "ok",
     "timestamp": 1620800321512,
     "user": {
      "displayName": "Diogo Resende",
      "photoUrl": "https://lh3.googleusercontent.com/a-/AOh14GgH4DE06-yE1oiIzCiaAURCl1Escr4LXXiaSnbSaA=s64",
      "userId": "05706604408624562002"
     },
     "user_tz": -120
    },
    "id": "o55_2auGOUm6",
    "outputId": "23139e02-7db7-4d67-df69-0c89630a67e5"
   },
   "outputs": [
    {
     "data": {
      "text/plain": [
       "0      2014-01-01\n",
       "1      2014-01-02\n",
       "2      2014-01-03\n",
       "3      2014-01-04\n",
       "4      2014-01-05\n",
       "          ...    \n",
       "2552   2020-12-27\n",
       "2553   2020-12-28\n",
       "2554   2020-12-29\n",
       "2555   2020-12-30\n",
       "2556   2020-12-31\n",
       "Name: Date, Length: 2557, dtype: datetime64[ns]"
      ]
     },
     "execution_count": 7,
     "metadata": {
      "tags": []
     },
     "output_type": "execute_result"
    }
   ],
   "source": [
    "#transform the date variable\n"
   ]
  },
  {
   "cell_type": "code",
   "execution_count": 8,
   "metadata": {
    "colab": {
     "base_uri": "https://localhost:8080/",
     "height": 202
    },
    "executionInfo": {
     "elapsed": 696,
     "status": "ok",
     "timestamp": 1620800545963,
     "user": {
      "displayName": "Diogo Resende",
      "photoUrl": "https://lh3.googleusercontent.com/a-/AOh14GgH4DE06-yE1oiIzCiaAURCl1Escr4LXXiaSnbSaA=s64",
      "userId": "05706604408624562002"
     },
     "user_tz": -120
    },
    "id": "eJqdPy0TOnzn",
    "outputId": "ceb0058d-12da-455c-800c-ac89a9bcc2f9"
   },
   "outputs": [
    {
     "data": {
      "text/html": [
       "<div>\n",
       "<style scoped>\n",
       "    .dataframe tbody tr th:only-of-type {\n",
       "        vertical-align: middle;\n",
       "    }\n",
       "\n",
       "    .dataframe tbody tr th {\n",
       "        vertical-align: top;\n",
       "    }\n",
       "\n",
       "    .dataframe thead th {\n",
       "        text-align: right;\n",
       "    }\n",
       "</style>\n",
       "<table border=\"1\" class=\"dataframe\">\n",
       "  <thead>\n",
       "    <tr style=\"text-align: right;\">\n",
       "      <th></th>\n",
       "      <th>Date</th>\n",
       "      <th>Total Individuals in Shelter</th>\n",
       "      <th>Easter</th>\n",
       "      <th>Thanksgiving</th>\n",
       "      <th>Christmas</th>\n",
       "    </tr>\n",
       "  </thead>\n",
       "  <tbody>\n",
       "    <tr>\n",
       "      <th>0</th>\n",
       "      <td>2014-01-01</td>\n",
       "      <td>50689</td>\n",
       "      <td>0</td>\n",
       "      <td>0</td>\n",
       "      <td>0</td>\n",
       "    </tr>\n",
       "    <tr>\n",
       "      <th>1</th>\n",
       "      <td>2014-01-02</td>\n",
       "      <td>50797</td>\n",
       "      <td>0</td>\n",
       "      <td>0</td>\n",
       "      <td>0</td>\n",
       "    </tr>\n",
       "    <tr>\n",
       "      <th>2</th>\n",
       "      <td>2014-01-03</td>\n",
       "      <td>50954</td>\n",
       "      <td>0</td>\n",
       "      <td>0</td>\n",
       "      <td>0</td>\n",
       "    </tr>\n",
       "    <tr>\n",
       "      <th>3</th>\n",
       "      <td>2014-01-04</td>\n",
       "      <td>50957</td>\n",
       "      <td>0</td>\n",
       "      <td>0</td>\n",
       "      <td>0</td>\n",
       "    </tr>\n",
       "    <tr>\n",
       "      <th>4</th>\n",
       "      <td>2014-01-05</td>\n",
       "      <td>50957</td>\n",
       "      <td>0</td>\n",
       "      <td>0</td>\n",
       "      <td>0</td>\n",
       "    </tr>\n",
       "  </tbody>\n",
       "</table>\n",
       "</div>"
      ],
      "text/plain": [
       "        Date  Total Individuals in Shelter  Easter  Thanksgiving  Christmas\n",
       "0 2014-01-01                         50689       0             0          0\n",
       "1 2014-01-02                         50797       0             0          0\n",
       "2 2014-01-03                         50954       0             0          0\n",
       "3 2014-01-04                         50957       0             0          0\n",
       "4 2014-01-05                         50957       0             0          0"
      ]
     },
     "execution_count": 8,
     "metadata": {
      "tags": []
     },
     "output_type": "execute_result"
    }
   ],
   "source": [
    "#final dataset\n",
    "           "
   ]
  },
  {
   "cell_type": "code",
   "execution_count": 9,
   "metadata": {
    "colab": {
     "base_uri": "https://localhost:8080/",
     "height": 79
    },
    "executionInfo": {
     "elapsed": 590,
     "status": "ok",
     "timestamp": 1620800851990,
     "user": {
      "displayName": "Diogo Resende",
      "photoUrl": "https://lh3.googleusercontent.com/a-/AOh14GgH4DE06-yE1oiIzCiaAURCl1Escr4LXXiaSnbSaA=s64",
      "userId": "05706604408624562002"
     },
     "user_tz": -120
    },
    "id": "D3FRYUauQWkz",
    "outputId": "46ccffb4-51ba-4f2f-f9d0-145549f7d4a9"
   },
   "outputs": [
    {
     "data": {
      "text/html": [
       "<div>\n",
       "<style scoped>\n",
       "    .dataframe tbody tr th:only-of-type {\n",
       "        vertical-align: middle;\n",
       "    }\n",
       "\n",
       "    .dataframe tbody tr th {\n",
       "        vertical-align: top;\n",
       "    }\n",
       "\n",
       "    .dataframe thead th {\n",
       "        text-align: right;\n",
       "    }\n",
       "</style>\n",
       "<table border=\"1\" class=\"dataframe\">\n",
       "  <thead>\n",
       "    <tr style=\"text-align: right;\">\n",
       "      <th></th>\n",
       "      <th>ds</th>\n",
       "      <th>y</th>\n",
       "      <th>Easter</th>\n",
       "      <th>Thanksgiving</th>\n",
       "      <th>Christmas</th>\n",
       "    </tr>\n",
       "  </thead>\n",
       "  <tbody>\n",
       "    <tr>\n",
       "      <th>0</th>\n",
       "      <td>2014-01-01</td>\n",
       "      <td>50689</td>\n",
       "      <td>0</td>\n",
       "      <td>0</td>\n",
       "      <td>0</td>\n",
       "    </tr>\n",
       "  </tbody>\n",
       "</table>\n",
       "</div>"
      ],
      "text/plain": [
       "          ds      y  Easter  Thanksgiving  Christmas\n",
       "0 2014-01-01  50689       0             0          0"
      ]
     },
     "execution_count": 9,
     "metadata": {
      "tags": []
     },
     "output_type": "execute_result"
    }
   ],
   "source": [
    "#renaming variables\n"
   ]
  },
  {
   "cell_type": "markdown",
   "metadata": {
    "id": "rbI03M5DQnf7"
   },
   "source": [
    "# Holidays"
   ]
  },
  {
   "cell_type": "code",
   "execution_count": 12,
   "metadata": {
    "colab": {
     "base_uri": "https://localhost:8080/",
     "height": 110
    },
    "executionInfo": {
     "elapsed": 576,
     "status": "ok",
     "timestamp": 1620801072473,
     "user": {
      "displayName": "Diogo Resende",
      "photoUrl": "https://lh3.googleusercontent.com/a-/AOh14GgH4DE06-yE1oiIzCiaAURCl1Escr4LXXiaSnbSaA=s64",
      "userId": "05706604408624562002"
     },
     "user_tz": -120
    },
    "id": "-iN1u_ZbQo_R",
    "outputId": "1f884a87-d242-4141-f686-5ad52b11b5b0"
   },
   "outputs": [
    {
     "data": {
      "text/html": [
       "<div>\n",
       "<style scoped>\n",
       "    .dataframe tbody tr th:only-of-type {\n",
       "        vertical-align: middle;\n",
       "    }\n",
       "\n",
       "    .dataframe tbody tr th {\n",
       "        vertical-align: top;\n",
       "    }\n",
       "\n",
       "    .dataframe thead th {\n",
       "        text-align: right;\n",
       "    }\n",
       "</style>\n",
       "<table border=\"1\" class=\"dataframe\">\n",
       "  <thead>\n",
       "    <tr style=\"text-align: right;\">\n",
       "      <th></th>\n",
       "      <th>holiday</th>\n",
       "      <th>ds</th>\n",
       "      <th>lower_window</th>\n",
       "      <th>upper_window</th>\n",
       "    </tr>\n",
       "  </thead>\n",
       "  <tbody>\n",
       "    <tr>\n",
       "      <th>109</th>\n",
       "      <td>easter</td>\n",
       "      <td>2014-04-20</td>\n",
       "      <td>-5</td>\n",
       "      <td>2</td>\n",
       "    </tr>\n",
       "    <tr>\n",
       "      <th>459</th>\n",
       "      <td>easter</td>\n",
       "      <td>2015-04-05</td>\n",
       "      <td>-5</td>\n",
       "      <td>2</td>\n",
       "    </tr>\n",
       "  </tbody>\n",
       "</table>\n",
       "</div>"
      ],
      "text/plain": [
       "    holiday         ds  lower_window  upper_window\n",
       "109  easter 2014-04-20            -5             2\n",
       "459  easter 2015-04-05            -5             2"
      ]
     },
     "execution_count": 12,
     "metadata": {
      "tags": []
     },
     "output_type": "execute_result"
    }
   ],
   "source": [
    "#Easter\n"
   ]
  },
  {
   "cell_type": "code",
   "execution_count": 13,
   "metadata": {
    "colab": {
     "base_uri": "https://localhost:8080/",
     "height": 110
    },
    "executionInfo": {
     "elapsed": 940,
     "status": "ok",
     "timestamp": 1620801128316,
     "user": {
      "displayName": "Diogo Resende",
      "photoUrl": "https://lh3.googleusercontent.com/a-/AOh14GgH4DE06-yE1oiIzCiaAURCl1Escr4LXXiaSnbSaA=s64",
      "userId": "05706604408624562002"
     },
     "user_tz": -120
    },
    "id": "PhOrTqnKRcFB",
    "outputId": "9d9de58a-a936-4283-a3ea-49e4926313d5"
   },
   "outputs": [
    {
     "data": {
      "text/html": [
       "<div>\n",
       "<style scoped>\n",
       "    .dataframe tbody tr th:only-of-type {\n",
       "        vertical-align: middle;\n",
       "    }\n",
       "\n",
       "    .dataframe tbody tr th {\n",
       "        vertical-align: top;\n",
       "    }\n",
       "\n",
       "    .dataframe thead th {\n",
       "        text-align: right;\n",
       "    }\n",
       "</style>\n",
       "<table border=\"1\" class=\"dataframe\">\n",
       "  <thead>\n",
       "    <tr style=\"text-align: right;\">\n",
       "      <th></th>\n",
       "      <th>holiday</th>\n",
       "      <th>ds</th>\n",
       "      <th>lower_window</th>\n",
       "      <th>upper_window</th>\n",
       "    </tr>\n",
       "  </thead>\n",
       "  <tbody>\n",
       "    <tr>\n",
       "      <th>330</th>\n",
       "      <td>thanksgiving</td>\n",
       "      <td>2014-11-27</td>\n",
       "      <td>-5</td>\n",
       "      <td>2</td>\n",
       "    </tr>\n",
       "    <tr>\n",
       "      <th>694</th>\n",
       "      <td>thanksgiving</td>\n",
       "      <td>2015-11-26</td>\n",
       "      <td>-5</td>\n",
       "      <td>2</td>\n",
       "    </tr>\n",
       "  </tbody>\n",
       "</table>\n",
       "</div>"
      ],
      "text/plain": [
       "          holiday         ds  lower_window  upper_window\n",
       "330  thanksgiving 2014-11-27            -5             2\n",
       "694  thanksgiving 2015-11-26            -5             2"
      ]
     },
     "execution_count": 13,
     "metadata": {
      "tags": []
     },
     "output_type": "execute_result"
    }
   ],
   "source": [
    "#Thanksgiving\n"
   ]
  },
  {
   "cell_type": "code",
   "execution_count": 15,
   "metadata": {
    "colab": {
     "base_uri": "https://localhost:8080/",
     "height": 478
    },
    "executionInfo": {
     "elapsed": 662,
     "status": "ok",
     "timestamp": 1620801208217,
     "user": {
      "displayName": "Diogo Resende",
      "photoUrl": "https://lh3.googleusercontent.com/a-/AOh14GgH4DE06-yE1oiIzCiaAURCl1Escr4LXXiaSnbSaA=s64",
      "userId": "05706604408624562002"
     },
     "user_tz": -120
    },
    "id": "cmcQZKjgRp06",
    "outputId": "99cc14ca-205d-4306-9aeb-d9148565598c"
   },
   "outputs": [
    {
     "data": {
      "text/html": [
       "<div>\n",
       "<style scoped>\n",
       "    .dataframe tbody tr th:only-of-type {\n",
       "        vertical-align: middle;\n",
       "    }\n",
       "\n",
       "    .dataframe tbody tr th {\n",
       "        vertical-align: top;\n",
       "    }\n",
       "\n",
       "    .dataframe thead th {\n",
       "        text-align: right;\n",
       "    }\n",
       "</style>\n",
       "<table border=\"1\" class=\"dataframe\">\n",
       "  <thead>\n",
       "    <tr style=\"text-align: right;\">\n",
       "      <th></th>\n",
       "      <th>holiday</th>\n",
       "      <th>ds</th>\n",
       "      <th>lower_window</th>\n",
       "      <th>upper_window</th>\n",
       "    </tr>\n",
       "  </thead>\n",
       "  <tbody>\n",
       "    <tr>\n",
       "      <th>109</th>\n",
       "      <td>easter</td>\n",
       "      <td>2014-04-20</td>\n",
       "      <td>-5</td>\n",
       "      <td>2</td>\n",
       "    </tr>\n",
       "    <tr>\n",
       "      <th>459</th>\n",
       "      <td>easter</td>\n",
       "      <td>2015-04-05</td>\n",
       "      <td>-5</td>\n",
       "      <td>2</td>\n",
       "    </tr>\n",
       "    <tr>\n",
       "      <th>816</th>\n",
       "      <td>easter</td>\n",
       "      <td>2016-03-27</td>\n",
       "      <td>-5</td>\n",
       "      <td>2</td>\n",
       "    </tr>\n",
       "    <tr>\n",
       "      <th>1201</th>\n",
       "      <td>easter</td>\n",
       "      <td>2017-04-16</td>\n",
       "      <td>-5</td>\n",
       "      <td>2</td>\n",
       "    </tr>\n",
       "    <tr>\n",
       "      <th>1551</th>\n",
       "      <td>easter</td>\n",
       "      <td>2018-04-01</td>\n",
       "      <td>-5</td>\n",
       "      <td>2</td>\n",
       "    </tr>\n",
       "    <tr>\n",
       "      <th>1936</th>\n",
       "      <td>easter</td>\n",
       "      <td>2019-04-21</td>\n",
       "      <td>-5</td>\n",
       "      <td>2</td>\n",
       "    </tr>\n",
       "    <tr>\n",
       "      <th>2293</th>\n",
       "      <td>easter</td>\n",
       "      <td>2020-04-12</td>\n",
       "      <td>-5</td>\n",
       "      <td>2</td>\n",
       "    </tr>\n",
       "    <tr>\n",
       "      <th>330</th>\n",
       "      <td>thanksgiving</td>\n",
       "      <td>2014-11-27</td>\n",
       "      <td>-5</td>\n",
       "      <td>2</td>\n",
       "    </tr>\n",
       "    <tr>\n",
       "      <th>694</th>\n",
       "      <td>thanksgiving</td>\n",
       "      <td>2015-11-26</td>\n",
       "      <td>-5</td>\n",
       "      <td>2</td>\n",
       "    </tr>\n",
       "    <tr>\n",
       "      <th>1058</th>\n",
       "      <td>thanksgiving</td>\n",
       "      <td>2016-11-24</td>\n",
       "      <td>-5</td>\n",
       "      <td>2</td>\n",
       "    </tr>\n",
       "    <tr>\n",
       "      <th>1422</th>\n",
       "      <td>thanksgiving</td>\n",
       "      <td>2017-11-23</td>\n",
       "      <td>-5</td>\n",
       "      <td>2</td>\n",
       "    </tr>\n",
       "    <tr>\n",
       "      <th>1786</th>\n",
       "      <td>thanksgiving</td>\n",
       "      <td>2018-11-22</td>\n",
       "      <td>-5</td>\n",
       "      <td>2</td>\n",
       "    </tr>\n",
       "    <tr>\n",
       "      <th>2157</th>\n",
       "      <td>thanksgiving</td>\n",
       "      <td>2019-11-28</td>\n",
       "      <td>-5</td>\n",
       "      <td>2</td>\n",
       "    </tr>\n",
       "    <tr>\n",
       "      <th>2521</th>\n",
       "      <td>thanksgiving</td>\n",
       "      <td>2020-11-26</td>\n",
       "      <td>-5</td>\n",
       "      <td>2</td>\n",
       "    </tr>\n",
       "  </tbody>\n",
       "</table>\n",
       "</div>"
      ],
      "text/plain": [
       "           holiday         ds  lower_window  upper_window\n",
       "109         easter 2014-04-20            -5             2\n",
       "459         easter 2015-04-05            -5             2\n",
       "816         easter 2016-03-27            -5             2\n",
       "1201        easter 2017-04-16            -5             2\n",
       "1551        easter 2018-04-01            -5             2\n",
       "1936        easter 2019-04-21            -5             2\n",
       "2293        easter 2020-04-12            -5             2\n",
       "330   thanksgiving 2014-11-27            -5             2\n",
       "694   thanksgiving 2015-11-26            -5             2\n",
       "1058  thanksgiving 2016-11-24            -5             2\n",
       "1422  thanksgiving 2017-11-23            -5             2\n",
       "1786  thanksgiving 2018-11-22            -5             2\n",
       "2157  thanksgiving 2019-11-28            -5             2\n",
       "2521  thanksgiving 2020-11-26            -5             2"
      ]
     },
     "execution_count": 15,
     "metadata": {
      "tags": []
     },
     "output_type": "execute_result"
    }
   ],
   "source": [
    "#combining holidays\n"
   ]
  },
  {
   "cell_type": "markdown",
   "metadata": {
    "id": "eOzPNoRySOA5"
   },
   "source": [
    "# Prophet"
   ]
  },
  {
   "cell_type": "code",
   "execution_count": 16,
   "metadata": {
    "colab": {
     "base_uri": "https://localhost:8080/"
    },
    "executionInfo": {
     "elapsed": 7506,
     "status": "ok",
     "timestamp": 1620801393802,
     "user": {
      "displayName": "Diogo Resende",
      "photoUrl": "https://lh3.googleusercontent.com/a-/AOh14GgH4DE06-yE1oiIzCiaAURCl1Escr4LXXiaSnbSaA=s64",
      "userId": "05706604408624562002"
     },
     "user_tz": -120
    },
    "id": "Ai7zk9f7SPVK",
    "outputId": "a0db788b-c3f3-4130-c35a-665e0983f86f"
   },
   "outputs": [
    {
     "name": "stderr",
     "output_type": "stream",
     "text": [
      "INFO:fbprophet:Disabling daily seasonality. Run prophet with daily_seasonality=True to override this.\n"
     ]
    },
    {
     "data": {
      "text/plain": [
       "<fbprophet.forecaster.Prophet at 0x7f00c7eebad0>"
      ]
     },
     "execution_count": 16,
     "metadata": {
      "tags": []
     },
     "output_type": "execute_result"
    }
   ],
   "source": []
  },
  {
   "cell_type": "code",
   "execution_count": 17,
   "metadata": {
    "colab": {
     "base_uri": "https://localhost:8080/"
    },
    "executionInfo": {
     "elapsed": 40953,
     "status": "ok",
     "timestamp": 1620801499462,
     "user": {
      "displayName": "Diogo Resende",
      "photoUrl": "https://lh3.googleusercontent.com/a-/AOh14GgH4DE06-yE1oiIzCiaAURCl1Escr4LXXiaSnbSaA=s64",
      "userId": "05706604408624562002"
     },
     "user_tz": -120
    },
    "id": "F2FDXiJsSqfr",
    "outputId": "a5b8fb41-ae30-4bb3-f5c9-8e854be71939"
   },
   "outputs": [
    {
     "name": "stderr",
     "output_type": "stream",
     "text": [
      "INFO:fbprophet:Making 7 forecasts with cutoffs between 2020-07-30 00:00:00 and 2020-10-31 00:00:00\n",
      "INFO:fbprophet:Applying in parallel with <concurrent.futures.process.ProcessPoolExecutor object at 0x7f00b7258610>\n"
     ]
    }
   ],
   "source": [
    "#CV\n"
   ]
  },
  {
   "cell_type": "code",
   "execution_count": 19,
   "metadata": {
    "colab": {
     "base_uri": "https://localhost:8080/"
    },
    "executionInfo": {
     "elapsed": 545,
     "status": "ok",
     "timestamp": 1620801575027,
     "user": {
      "displayName": "Diogo Resende",
      "photoUrl": "https://lh3.googleusercontent.com/a-/AOh14GgH4DE06-yE1oiIzCiaAURCl1Escr4LXXiaSnbSaA=s64",
      "userId": "05706604408624562002"
     },
     "user_tz": -120
    },
    "id": "Y6K6RT3lTFaW",
    "outputId": "83c9329a-2957-48e5-95e9-bb6f4209ef55"
   },
   "outputs": [
    {
     "data": {
      "text/plain": [
       "1993.680043687866"
      ]
     },
     "execution_count": 19,
     "metadata": {
      "tags": []
     },
     "output_type": "execute_result"
    }
   ],
   "source": [
    "#assess model\n"
   ]
  },
  {
   "cell_type": "markdown",
   "metadata": {
    "id": "JhIn5mlcTblC"
   },
   "source": [
    "# Hyperparameter tuning"
   ]
  },
  {
   "cell_type": "code",
   "execution_count": 21,
   "metadata": {
    "executionInfo": {
     "elapsed": 562,
     "status": "ok",
     "timestamp": 1620801766809,
     "user": {
      "displayName": "Diogo Resende",
      "photoUrl": "https://lh3.googleusercontent.com/a-/AOh14GgH4DE06-yE1oiIzCiaAURCl1Escr4LXXiaSnbSaA=s64",
      "userId": "05706604408624562002"
     },
     "user_tz": -120
    },
    "id": "z4wv9KH5Tn8d"
   },
   "outputs": [],
   "source": [
    "#PArameters\n"
   ]
  },
  {
   "cell_type": "code",
   "execution_count": null,
   "metadata": {
    "id": "ka5ZAlOBUE-x"
   },
   "outputs": [],
   "source": [
    "#Tuning  \n"
   ]
  },
  {
   "cell_type": "code",
   "execution_count": 23,
   "metadata": {
    "colab": {
     "base_uri": "https://localhost:8080/"
    },
    "executionInfo": {
     "elapsed": 567,
     "status": "ok",
     "timestamp": 1620802361602,
     "user": {
      "displayName": "Diogo Resende",
      "photoUrl": "https://lh3.googleusercontent.com/a-/AOh14GgH4DE06-yE1oiIzCiaAURCl1Escr4LXXiaSnbSaA=s64",
      "userId": "05706604408624562002"
     },
     "user_tz": -120
    },
    "id": "X-0LAk7rWKH1",
    "outputId": "b897c3ef-f5fd-423c-cc4f-70e70ef647a9"
   },
   "outputs": [
    {
     "name": "stdout",
     "output_type": "stream",
     "text": [
      "{'seasonality_prior_scale': 20, 'holidays_prior_scale': 10, 'changepoint_prior_scale': 0.1}\n"
     ]
    }
   ],
   "source": [
    "#gather best parameters\n"
   ]
  },
  {
   "cell_type": "markdown",
   "metadata": {},
   "source": [
    "# Congrats you made it 🎉"
   ]
  }
 ],
 "metadata": {
  "colab": {
   "authorship_tag": "ABX9TyNebBL7Ojp5dZaNxMKr95Jx",
   "mount_file_id": "1adY0-eFLonlYIOIfIljnsLv-27hM4vTW",
   "name": "Facebook Prophet Challenge Template.ipynb",
   "provenance": []
  },
  "kernelspec": {
   "display_name": "Python 3 (ipykernel)",
   "language": "python",
   "name": "python3"
  },
  "language_info": {
   "codemirror_mode": {
    "name": "ipython",
    "version": 3
   },
   "file_extension": ".py",
   "mimetype": "text/x-python",
   "name": "python",
   "nbconvert_exporter": "python",
   "pygments_lexer": "ipython3",
   "version": "3.9.12"
  }
 },
 "nbformat": 4,
 "nbformat_minor": 4
}
